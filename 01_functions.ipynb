{
 "cells": [
  {
   "cell_type": "markdown",
   "metadata": {
    "editable": true,
    "slideshow": {
     "slide_type": ""
    },
    "tags": []
   },
   "source": [
    "#### Functions definition"
   ]
  },
  {
   "cell_type": "code",
   "execution_count": 3,
   "metadata": {
    "ExecuteTime": {
     "end_time": "2024-08-09T10:54:04.554827Z",
     "start_time": "2024-08-09T10:54:04.544760Z"
    },
    "editable": true,
    "slideshow": {
     "slide_type": ""
    },
    "tags": []
   },
   "outputs": [],
   "source": [
    "# Libraries\n",
    "import csv\n",
    "#--------------------------------------------------------------------------------------------------------------------------------------------#\n",
    "def from_csv_to_dict_by_ID(csv_file):\n",
    "    # Opening the .csv database, conversion of the numerical and boolean data.\n",
    "    # Creation of list of user ID and finally creation of a dictionary containing all the data.\n",
    "    # The following modifications are applied to the dictionary created:\n",
    "    # - if 'sex' = male --> 1, else put 0\n",
    "    # - if 'smoker' = True --> 1, else put 0\n",
    "    list_content = []\n",
    "    with open(csv_file, newline='') as insurance_data_file:\n",
    "        content_dict = csv.DictReader(insurance_data_file)\n",
    "        for row in content_dict:\n",
    "            row[\"age\"]=float(row[\"age\"])\n",
    "            row[\"bmi\"]=float(row[\"bmi\"])\n",
    "            row[\"children\"]=int(row[\"children\"])\n",
    "            row[\"sex\"] = 1 if row[\"sex\"] == \"male\" else 0\n",
    "            row[\"smoker\"] = 1 if row[\"smoker\"] == \"yes\" else 0\n",
    "            row[\"charges\"]=float(row[\"charges\"])\n",
    "            list_content.append(row)\n",
    "    \n",
    "    list_ID = [\"ID_\"+str(x) for x in range(1,len(list_content)+1)]\n",
    "    insurance_dictionary_by_ID = dict(zip(list_ID,list_content))\n",
    "    print(\"A new dictionary was created where to each user is assigned an ID that serves as 'key' for its corresponding information.\\n\"\n",
    "          \"As an example, the first entry now looks like this: \\n\",\n",
    "          list(insurance_dictionary_by_ID.keys())[0],\": \",list(insurance_dictionary_by_ID.values())[0])\n",
    "    return insurance_dictionary_by_ID\n",
    "#--------------------------------------------------------------------------------------------------------------------------------------------#\n",
    "def proportion_on_parameter(dictionary_by_ID, key_to_inspect):\n",
    "# Creates two list of users separating those having one thing from those who does not\n",
    "# Returns the two user id lists and the percentage among the total n° of users\n",
    "    list_ID_yes = []\n",
    "    list_ID_no = []\n",
    "    for ID in dictionary_by_ID.keys():\n",
    "        if dictionary_by_ID[ID][key_to_inspect] != 0:\n",
    "            list_ID_yes.append(ID)\n",
    "        else:\n",
    "            list_ID_no.append(ID)\n",
    "\n",
    "    number_yes = len(list_ID_yes)\n",
    "    number_no = len(list_ID_no)\n",
    "    yes_percent = round((number_yes/(number_yes+number_no)) * 100, 2)\n",
    "    no_percent = round((number_no/(number_yes+number_no)) * 100, 2)\n",
    "    return list_ID_yes, yes_percent, list_ID_no, no_percent\n",
    "#--------------------------------------------------------------------------------------------------------------------------------------------#\n",
    "def average(list_user_id, key_to_inspect):\n",
    "    # if provided with the list of user ID, it returns the average number of the person having that specific parameter\n",
    "    tot = 0\n",
    "    n_users = len(list_user_id)\n",
    "    for user_id in list_user_id:\n",
    "        tot += Insurance_dictionary_by_ID[user_id][key_to_inspect]\n",
    "    avg = round(tot / n_users, 1)\n",
    "    return avg\n",
    "#--------------------------------------------------------------------------------------------------------------------------------------------#"
   ]
  }
 ],
 "metadata": {
  "kernelspec": {
   "display_name": "Python 3 (ipykernel)",
   "language": "python",
   "name": "python3"
  },
  "language_info": {
   "codemirror_mode": {
    "name": "ipython",
    "version": 3
   },
   "file_extension": ".py",
   "mimetype": "text/x-python",
   "name": "python",
   "nbconvert_exporter": "python",
   "pygments_lexer": "ipython3",
   "version": "3.11.9"
  },
  "panel-cell-order": [
   "6467b63c",
   "d078fc3d",
   "31a13df9",
   "78c6b24a",
   "3d83cc7a",
   "7c158a8c",
   "27540287",
   "594f8102",
   "2a7e20b7",
   "2e021805",
   "ee78c628",
   "5b4793d5",
   "a6e28cf2",
   "8f2b969a",
   "dcd838bd",
   "034ae6e9"
  ]
 },
 "nbformat": 4,
 "nbformat_minor": 4
}
