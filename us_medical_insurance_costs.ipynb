{
 "cells": [
  {
   "cell_type": "markdown",
   "metadata": {},
   "source": [
    "# U.S. Medical Insurance Costs"
   ]
  },
  {
   "cell_type": "markdown",
   "metadata": {
    "editable": false,
    "slideshow": {
     "slide_type": ""
    },
    "tags": []
   },
   "source": [
    "#### Short description of the project\n",
    "Open insurance.csv and take a look at the file. Take note of how information is organized. How will this affect how you analyze the data in Python? Is there anything of particular interest to you in the dataset that you want to investigate? Think about these things before you jump into analyzing it"
   ]
  },
  {
   "cell_type": "code",
   "execution_count": 1,
   "metadata": {
    "ExecuteTime": {
     "end_time": "2024-08-09T10:57:41.658622Z",
     "start_time": "2024-08-09T10:57:41.469020Z"
    },
    "slideshow": {
     "slide_type": ""
    },
    "tags": []
   },
   "outputs": [],
   "source": [
    "# Libraries\n",
    "import csv\n",
    "%run 01_functions.ipynb"
   ]
  },
  {
   "cell_type": "code",
   "execution_count": 2,
   "metadata": {
    "ExecuteTime": {
     "end_time": "2024-08-09T10:57:43.696860Z",
     "start_time": "2024-08-09T10:57:43.689885Z"
    },
    "scrolled": true,
    "slideshow": {
     "slide_type": ""
    },
    "tags": []
   },
   "outputs": [
    {
     "data": {
      "text/plain": [
       "['age,sex,bmi,children,smoker,region,charges\\r\\n',\n",
       " '19,female,27.9,0,yes,southwest,16884.924\\r\\n',\n",
       " '18,male,33.77,1,no,southeast,1725.5523\\r\\n',\n",
       " '28,male,33,3,no,southeast,4449.462\\r\\n',\n",
       " '33,male,22.705,0,no,northwest,21984.47061\\r\\n',\n",
       " '32,male,28.88,0,no,northwest,3866.8552\\r\\n']"
      ]
     },
     "execution_count": 2,
     "metadata": {},
     "output_type": "execute_result"
    }
   ],
   "source": [
    "# Opening the .csv database to have a look at data\n",
    "with open(\"insurance.csv\", newline='') as insurance_database:\n",
    "    #content = insurance_database.read()\n",
    "    content_6_lines = []\n",
    "    [content_6_lines.append(insurance_database.readline()) for line in range(6)]\n",
    "content_6_lines"
   ]
  },
  {
   "cell_type": "markdown",
   "metadata": {},
   "source": [
    "## About the data\n",
    "The database contains people aged from 18 to close to 70 years old, reporting their sex and BMI.\n",
    "Additionally, it is said if they have children or not and in which region they reside.\n",
    "Finally, the total cost of their insurance is provided.<br>\n",
    "About how the data is stored:\n",
    ">a) There is no missing data.<br>\n",
    ">b) There are seven columns.<br>\n",
    ">c) Some columns are numerical while some are categorical.\n",
    "***\n",
    "## Things to investigate\n",
    "1.) Are woman and male equally represented?<br>\n",
    ">1.1) Is there a difference in charges between men and women?<br>\n",
    "\n",
    "2.) How about having children: is the data 50-50 or there is a majority?\n",
    ">2.1) Are there more woman or male listed with children?<br>\n",
    ">2.2) What is the average age of parents and non parents?\n",
    "\n",
    "3.) How about smokers?\n",
    ">3.1) Do smokers pay more?\n",
    "\n",
    "4.) Is there a region that appear more expensive than others and which is the less expensive?\n",
    ">4.1) How many regions are there and are them proportional in the database?<br>\n",
    "\n",
    " 5.) Dividing the data based on age 18-29, 30-39, 40-49, ..., which is the larger group? Is each category well represented?\n",
    "***"
   ]
  },
  {
   "cell_type": "markdown",
   "metadata": {
    "editable": true,
    "slideshow": {
     "slide_type": ""
    },
    "tags": []
   },
   "source": [
    "An ID is assigned to each line of the .csv database, which is used as a key to build a dictionary containing all the information of that person.\n",
    "Additionally, the numerical values are converted and same for the boolean parameters, such as \"smoker\" or not \"smoker\".\n",
    "The result is a comprehensive dictionary easy to access."
   ]
  },
  {
   "cell_type": "code",
   "execution_count": 3,
   "metadata": {
    "ExecuteTime": {
     "end_time": "2024-08-09T10:57:46.418600Z",
     "start_time": "2024-08-09T10:57:46.408471Z"
    }
   },
   "outputs": [
    {
     "name": "stdout",
     "output_type": "stream",
     "text": [
      "A new dictionary was created where to each user is assigned an ID that serves as 'key' for its corresponding information.\n",
      "As an example, the first entry now looks like this: \n",
      " ID_1 :  {'age': 19.0, 'sex': 0, 'bmi': 27.9, 'children': 0, 'smoker': 1, 'region': 'southwest', 'charges': 16884.924}\n"
     ]
    }
   ],
   "source": [
    "Insurance_dictionary_by_ID = from_csv_to_dict_by_ID(\"insurance.csv\")"
   ]
  },
  {
   "cell_type": "markdown",
   "metadata": {},
   "source": [
    "#### 1.) Are woman and man equally represented? What's the percentage?"
   ]
  },
  {
   "cell_type": "code",
   "execution_count": 4,
   "metadata": {
    "ExecuteTime": {
     "end_time": "2024-08-09T10:57:47.459858Z",
     "start_time": "2024-08-09T10:57:47.455787Z"
    }
   },
   "outputs": [
    {
     "name": "stdout",
     "output_type": "stream",
     "text": [
      "Totally the US Insurance has 1338 clients.\n",
      "Specifically there are 676 males and 662 females.\n",
      "The proportion is then 50.52% and 49.48% respectively.\n"
     ]
    }
   ],
   "source": [
    "list_ID_male, male_percent, list_ID_female, female_percent = proportion_on_parameter(Insurance_dictionary_by_ID, \"sex\")\n",
    "\n",
    "print(\"Totally the US Insurance has \" + str(len(Insurance_dictionary_by_ID.keys())) + \" clients.\\n\"\n",
    "      \"Specifically there are {n_males} males and {n_females} females.\\n\"\n",
    "      \"The proportion is then {male_perc}% and {female_perc}% respectively.\"\n",
    "      .format(n_males=len(list_ID_male), male_perc=male_percent,\n",
    "              n_females=len(list_ID_female), female_perc=female_percent))"
   ]
  },
  {
   "cell_type": "markdown",
   "metadata": {},
   "source": [
    "Therefore, we can say that men and women are equally represented. How is cost insurance for the two group on average?"
   ]
  },
  {
   "cell_type": "code",
   "execution_count": 5,
   "metadata": {},
   "outputs": [
    {
     "name": "stdout",
     "output_type": "stream",
     "text": [
      "Clients who are men pay on average: 13956.8 dollars.\n",
      "Clients who are women pay on average: 12569.6 dollars.\n"
     ]
    }
   ],
   "source": [
    "avg_male_cost = average(list_ID_male, 'charges')\n",
    "avg_female_cost = average(list_ID_female, 'charges')\n",
    "print(\"Clients who are men pay on average:\", avg_male_cost, \"dollars.\")\n",
    "print(\"Clients who are women pay on average:\", avg_female_cost, \"dollars.\")"
   ]
  },
  {
   "cell_type": "code",
   "execution_count": 6,
   "metadata": {},
   "outputs": [
    {
     "name": "stdout",
     "output_type": "stream",
     "text": [
      "Therefore on average, men pay 11.0 % more than women.\n"
     ]
    }
   ],
   "source": [
    "# Calculating how much more men pay compare to non women\n",
    "print(\"Therefore on average, men pay\", round(abs(avg_female_cost-avg_male_cost)/avg_female_cost * 100,1),\n",
    "      \"% more than women.\")"
   ]
  },
  {
   "cell_type": "markdown",
   "metadata": {},
   "source": [
    "#### 2.) How about having children: is the data 50-50 or there is a majority? And what's the average of children for those who have them?"
   ]
  },
  {
   "cell_type": "code",
   "execution_count": 7,
   "metadata": {
    "ExecuteTime": {
     "end_time": "2024-08-09T10:57:48.719768Z",
     "start_time": "2024-08-09T10:57:48.716146Z"
    }
   },
   "outputs": [
    {
     "name": "stdout",
     "output_type": "stream",
     "text": [
      "Totally there are 764 parents and 574 who do not have children.\n",
      "The proportion is then 57.1% and 42.9% respectively.\n"
     ]
    }
   ],
   "source": [
    "list_ID_parents, parents_percent, list_ID_no_parents, no_parent_percent = proportion_on_parameter(Insurance_dictionary_by_ID, \"children\")\n",
    "\n",
    "print(\"Totally there are {n_parents} parents and {n_no_parents} who do not have children.\\n\"\n",
    "      \"The proportion is then {parents_percent}% and {no_parent_percent}% respectively.\"\n",
    "      .format(n_parents=len(list_ID_parents), parents_percent=parents_percent,\n",
    "              n_no_parents=len(list_ID_no_parents), no_parent_percent=no_parent_percent))"
   ]
  },
  {
   "cell_type": "markdown",
   "metadata": {},
   "source": [
    "This means that more than half of the people insured is a parent. It can be interesting to explore if on average their cost insurance is higher compare to the group of people without children."
   ]
  },
  {
   "cell_type": "code",
   "execution_count": 8,
   "metadata": {},
   "outputs": [
    {
     "name": "stdout",
     "output_type": "stream",
     "text": [
      "Clients with children pay on average: 13949.9 dollars.\n",
      "Clients who do not have children pay on average: 12366.0 dollars.\n"
     ]
    }
   ],
   "source": [
    "# Checking the average cost of insurance paid by parents vs that paid by clients without children.abs\n",
    "avg_parent_cost = average(list_ID_parents, 'charges')\n",
    "avg_no_parent_cost = average(list_ID_no_parents, 'charges')\n",
    "print(\"Clients with children pay on average:\", avg_parent_cost, \"dollars.\")\n",
    "print(\"Clients who do not have children pay on average:\", avg_no_parent_cost, \"dollars.\")"
   ]
  },
  {
   "cell_type": "code",
   "execution_count": 9,
   "metadata": {},
   "outputs": [
    {
     "name": "stdout",
     "output_type": "stream",
     "text": [
      "Therefore on average, parents pay 12.8 % more than clients without children.\n"
     ]
    }
   ],
   "source": [
    "# Calculating how much more parents pay compare to non parents\n",
    "print(\"Therefore on average, parents pay\", round(abs(avg_no_parent_cost-avg_parent_cost)/avg_no_parent_cost * 100,1),\n",
    "      \"% more than clients without children.\")"
   ]
  },
  {
   "cell_type": "code",
   "execution_count": 10,
   "metadata": {
    "ExecuteTime": {
     "end_time": "2024-08-09T10:57:49.526422Z",
     "start_time": "2024-08-09T10:57:49.522491Z"
    }
   },
   "outputs": [
    {
     "name": "stdout",
     "output_type": "stream",
     "text": [
      "Among the parents user_ID, the average number of children is 1.9\n"
     ]
    }
   ],
   "source": [
    "average_number_children = average(list_ID_parents, \"children\")\n",
    "print(\"Among the parents user_ID, the average number of children is \" + str(average_number_children))"
   ]
  },
  {
   "cell_type": "markdown",
   "metadata": {},
   "source": [
    "##### 2.1.) Are there more woman or male listed with children?"
   ]
  },
  {
   "cell_type": "code",
   "execution_count": 11,
   "metadata": {
    "ExecuteTime": {
     "end_time": "2024-08-09T10:57:51.036867Z",
     "start_time": "2024-08-09T10:57:51.033903Z"
    }
   },
   "outputs": [
    {
     "name": "stdout",
     "output_type": "stream",
     "text": [
      "Totally there are 391 fathers and 373 mothers.\n",
      "The proportion is than 51.18% and 48.82% respectively.\n"
     ]
    }
   ],
   "source": [
    "# I want to count how many men and women are there among the list of parents id previously retrieved\n",
    "fathers = 0; mothers = 0;\n",
    "for id in list_ID_parents:\n",
    "    if Insurance_dictionary_by_ID[id]['sex'] == 1:\n",
    "        fathers += 1\n",
    "    else:\n",
    "        mothers += 1\n",
    "print(\"Totally there are {n_dads} fathers and {n_mums} mothers.\\n\"\n",
    "      \"The proportion is than {dads_perc}% and {mums_perc}% respectively.\"\n",
    "      .format(n_dads=fathers, dads_perc=round(fathers/(fathers+mothers) * 100, 2),\n",
    "              n_mums=mothers, mums_perc=round(mothers/(fathers+mothers) * 100, 2)))"
   ]
  },
  {
   "cell_type": "markdown",
   "metadata": {},
   "source": [
    ">>Therefore, it is possible to assume that mothers and fathers are equally represented."
   ]
  },
  {
   "cell_type": "markdown",
   "metadata": {},
   "source": [
    "##### 2.2) What is the average age of parents and non parents?"
   ]
  },
  {
   "cell_type": "code",
   "execution_count": 12,
   "metadata": {},
   "outputs": [
    {
     "name": "stdout",
     "output_type": "stream",
     "text": [
      "Clients who have children are on average: 39.8 years old.\n",
      "Clients who don't have children are on average: 38.4 years old.\n"
     ]
    }
   ],
   "source": [
    "avg_parent_age = average(list_ID_parents, 'age')\n",
    "avg_no_parent_age = average(list_ID_no_parents, 'age')\n",
    "print(\"Clients who have children are on average:\", avg_parent_age, \"years old.\")\n",
    "print(\"Clients who don't have children are on average:\", avg_no_parent_age, \"years old.\")"
   ]
  },
  {
   "cell_type": "markdown",
   "metadata": {},
   "source": [
    "#### 3.) How about smokers?"
   ]
  },
  {
   "cell_type": "code",
   "execution_count": 13,
   "metadata": {},
   "outputs": [
    {
     "name": "stdout",
     "output_type": "stream",
     "text": [
      "Totally there are 274 smokers and 1064 who do not smoke.\n",
      "The proportion is then 20.48% and 79.52% respectively.\n"
     ]
    }
   ],
   "source": [
    "list_ID_smokers, smokers_percent, list_ID_no_smokers, no_smokers_percent = proportion_on_parameter(Insurance_dictionary_by_ID, \"smoker\")\n",
    "\n",
    "print(\"Totally there are {n_smokers} smokers and {n_no_smokers} who do not smoke.\\n\"\n",
    "      \"The proportion is then {smokers_percent}% and {no_smokers_percent}% respectively.\"\n",
    "      .format(n_smokers=len(list_ID_smokers), smokers_percent=smokers_percent,\n",
    "              n_no_smokers=len(list_ID_no_smokers), no_smokers_percent=no_smokers_percent))"
   ]
  },
  {
   "cell_type": "markdown",
   "metadata": {},
   "source": [
    "Hence, the majority of the users are non smoker. It might be interesting to check if the average cost of insurance is higher for smokers and therefore if smoking has a major impact on the cost they pay."
   ]
  },
  {
   "cell_type": "code",
   "execution_count": 14,
   "metadata": {},
   "outputs": [
    {
     "name": "stdout",
     "output_type": "stream",
     "text": [
      "Clients who smoke pay on average: 32050.2 dollars.\n",
      "Clients who don't smoke pay on average: 8434.3 dollars.\n"
     ]
    }
   ],
   "source": [
    "avg_smoker_cost = average(list_ID_smokers, 'charges')\n",
    "avg_no_smoker_cost = average(list_ID_no_smokers, 'charges')\n",
    "print(\"Clients who smoke pay on average:\", avg_smoker_cost, \"dollars.\")\n",
    "print(\"Clients who don't smoke pay on average:\", avg_no_smoker_cost, \"dollars.\")"
   ]
  },
  {
   "cell_type": "code",
   "execution_count": 15,
   "metadata": {},
   "outputs": [
    {
     "name": "stdout",
     "output_type": "stream",
     "text": [
      "Therefore on average, smokers pay 280.0 % more than non smokers.\n"
     ]
    }
   ],
   "source": [
    "# Calculating how much more smokers pay compare to non smokers\n",
    "print(\"Therefore on average, smokers pay\", round(abs(avg_no_smoker_cost-avg_smoker_cost)/avg_no_smoker_cost * 100,1),\n",
    "      \"% more than non smokers.\")"
   ]
  },
  {
   "cell_type": "markdown",
   "metadata": {},
   "source": [
    "#### 4.) Is there a region that appear more expensive than others and which is the less expensive?\n",
    "##### 4.1) How many regions are there and are them proportional in the database?<br>"
   ]
  },
  {
   "cell_type": "code",
   "execution_count": 16,
   "metadata": {},
   "outputs": [
    {
     "name": "stdout",
     "output_type": "stream",
     "text": [
      "Totally there are 4 regions:\n",
      "['southwest', 'southeast', 'northwest', 'northeast'].\n"
     ]
    }
   ],
   "source": [
    "# Checking number of different regions\n",
    "## Defining list containing region of every user_id and then making list of distinct regions thanks to \"dict.fromkeys()\"\n",
    "regions_all_id  = [Insurance_dictionary_by_ID[id]['region'] for id in Insurance_dictionary_by_ID.keys()]\n",
    "\n",
    "regions = list(dict.fromkeys(regions_all_id))\n",
    "print(\"Totally there are {n_reg} regions:\\n\"\n",
    "     \"{regions}.\".format(n_reg=len(regions), regions=regions))"
   ]
  },
  {
   "cell_type": "code",
   "execution_count": 17,
   "metadata": {},
   "outputs": [
    {
     "name": "stdout",
     "output_type": "stream",
     "text": [
      "Number of clients and their percentage among the total for eache region:\n",
      " {'southwest': [325, 24.3], 'southeast': [364, 27.2], 'northwest': [325, 24.3], 'northeast': [324, 24.2]}\n",
      "\n",
      "Average cost depending on region are:\n",
      " {'southwest': 12346.9, 'northwest': 12417.6, 'northeast': 13406.4, 'southeast': 14735.4}\n"
     ]
    }
   ],
   "source": [
    "# Checking if users are proportional in each region: numbers and percentages\n",
    "id_by_regions_dict = {}\n",
    "n_and_percent_users_regions = {}\n",
    "avg_region_cost_dict = {}\n",
    "for site in regions:\n",
    "    id_by_regions_dict[\"{site}\".format(site=str(site))] = [id for id in Insurance_dictionary_by_ID.keys()\n",
    "                                                          if Insurance_dictionary_by_ID[id]['region'] == str(site)]\n",
    "    n_and_percent_users_regions[\"{site}\".format(site=str(site))] = [ len(list(id_by_regions_dict[str(site)])),\n",
    "                                                                    round(len(list(id_by_regions_dict[str(site)])) /\n",
    "                                                                          len(Insurance_dictionary_by_ID.keys()) * 100, 1) ]\n",
    "    avg_region_cost_dict[\"{site}\".format(site=str(site))] = average(id_by_regions_dict[site], 'charges')\n",
    "print('Number of clients and their percentage among the total for eache region:\\n',n_and_percent_users_regions)\n",
    "print('')\n",
    "# Rearrangin the average cost dictionary from less expensive to more expensive and overwriting it\n",
    "avg_region_cost_dict = {key : avg_cost for key, avg_cost in sorted(avg_region_cost_dict.items(), key = lambda item: item[1])}\n",
    "print('Average cost depending on region are:\\n', avg_region_cost_dict)"
   ]
  },
  {
   "cell_type": "code",
   "execution_count": 18,
   "metadata": {},
   "outputs": [
    {
     "name": "stdout",
     "output_type": "stream",
     "text": [
      "19.34 %\n"
     ]
    }
   ],
   "source": [
    "# Calculating delta between cheapest and more expensive region\n",
    "delta_cheap_expensive = round( (list(avg_region_cost_dict.values())[-1] - list(avg_region_cost_dict.values())[0])\n",
    "                              /list(avg_region_cost_dict.values())[0] * 100, 2 )\n",
    "print(delta_cheap_expensive,'%')"
   ]
  },
  {
   "cell_type": "raw",
   "metadata": {},
   "source": [
    "Some possible ideas for analysis are the following:\n",
    "    Find out the average age of the patients in the dataset.\n",
    "    Analyze where a majority of the individuals are from."
   ]
  },
  {
   "cell_type": "markdown",
   "metadata": {},
   "source": [
    " 5.) Dividing the data based on age 18-29, 30-39, 40-49, ..., which is the larger group? Is each category well represented?"
   ]
  },
  {
   "cell_type": "code",
   "execution_count": 19,
   "metadata": {},
   "outputs": [
    {
     "name": "stdout",
     "output_type": "stream",
     "text": [
      "The first oldest client ID_63 is 64 years old\n",
      "The first youngest client ID_2 is 18 years old\n",
      "\n",
      "The dictionary id of people grouped by age range looks like this:\n",
      " {'age_range_20': [], 'age_range_30': [], 'age_range_40': [], 'age_range_50': [], 'age_range_60': []} \n",
      "\n",
      "After filling it, as an example the people older than 60 and under 70 are:\n",
      " ['ID_10', 'ID_12', 'ID_21', 'ID_27', 'ID_34', 'ID_37', 'ID_40', 'ID_49', 'ID_63', 'ID_67', 'ID_95', 'ID_104', 'ID_110', 'ID_116', 'ID_132', 'ID_171', 'ID_176', 'ID_191', 'ID_200', 'ID_203', 'ID_209', 'ID_245', 'ID_247', 'ID_252', 'ID_288', 'ID_329', 'ID_331', 'ID_333', 'ID_336', 'ID_337', 'ID_338', 'ID_342', 'ID_343', 'ID_344', 'ID_371', 'ID_379', 'ID_380', 'ID_399', 'ID_403', 'ID_419', 'ID_420', 'ID_421', 'ID_422', 'ID_434', 'ID_436', 'ID_447', 'ID_463', 'ID_467', 'ID_476', 'ID_481', 'ID_492', 'ID_494', 'ID_500', 'ID_532', 'ID_535', 'ID_543', 'ID_551', 'ID_553', 'ID_574', 'ID_589', 'ID_604', 'ID_636', 'ID_643', 'ID_665', 'ID_669', 'ID_678', 'ID_716', 'ID_718', 'ID_723', 'ID_753', 'ID_769', 'ID_771', 'ID_787', 'ID_790', 'ID_802', 'ID_825', 'ID_826', 'ID_831', 'ID_846', 'ID_852', 'ID_869', 'ID_891', 'ID_895', 'ID_896', 'ID_902', 'ID_905', 'ID_909', 'ID_919', 'ID_921', 'ID_922', 'ID_929', 'ID_945', 'ID_963', 'ID_998', 'ID_1013', 'ID_1035', 'ID_1052', 'ID_1069', 'ID_1072', 'ID_1075', 'ID_1080', 'ID_1085', 'ID_1126', 'ID_1147', 'ID_1188', 'ID_1237', 'ID_1242', 'ID_1266', 'ID_1285', 'ID_1302', 'ID_1322', 'ID_1323', 'ID_1326', 'ID_1338'] \n",
      "\n",
      "Clients in the age_range_20 are 31.17% of the total.\n",
      "On average their insurance costs are: 9182.5$.\n",
      "\n",
      "Clients in the age_range_30 are 19.21% of the total.\n",
      "On average their insurance costs are: 11738.8$.\n",
      "\n",
      "Clients in the age_range_40 are 20.85% of the total.\n",
      "On average their insurance costs are: 14399.2$.\n",
      "\n",
      "Clients in the age_range_50 are 20.25% of the total.\n",
      "On average their insurance costs are: 16495.2$.\n",
      "\n",
      "Clients in the age_range_60 are 8.52% of the total.\n",
      "On average their insurance costs are: 21248.0$.\n",
      "\n"
     ]
    }
   ],
   "source": [
    "# Determining max and min age in the database\n",
    "max_age= 50 # initialize max at 50\n",
    "min_age = 25 # # initialize min at 20\n",
    "for id in Insurance_dictionary_by_ID:\n",
    "    if Insurance_dictionary_by_ID[id]['age'] > max_age:\n",
    "        max_age = int(Insurance_dictionary_by_ID[id]['age'])\n",
    "        id_max = id\n",
    "    if Insurance_dictionary_by_ID[id]['age'] < min_age:\n",
    "        min_age = int(Insurance_dictionary_by_ID[id]['age'])\n",
    "        id_min = id\n",
    "print('The first oldest client', str(id_max),'is', max_age, 'years old')\n",
    "print('The first youngest client', str(id_min),'is', min_age, 'years old\\n')\n",
    "\n",
    "# Creating dictionary with key values that covers range of 10 years: 18-29, 30-39,..., and that sort all ids by them\n",
    "lower_age_list = []\n",
    "id_by_age_group_dict = {}\n",
    "for i in range(round(min_age, -1), round(max_age,-1) + 10 , 10):\n",
    "    lower_age_list.append(i)\n",
    "    id_by_age_group_dict[\"age_range_{i}\".format(i=str(i))] = []\n",
    "print('The dictionary id of people grouped by age range looks like this:\\n', id_by_age_group_dict,'\\n')\n",
    "\n",
    "# Filling the dictionary with all the id:\n",
    "for id in Insurance_dictionary_by_ID:\n",
    "    # seprate if clause because first range starts also below 20 (example 18)\n",
    "    if Insurance_dictionary_by_ID[id]['age'] < 30:\n",
    "        id_by_age_group_dict['age_range_20'] += [id]\n",
    "    else:\n",
    "        for lower_age in lower_age_list[1:]:\n",
    "            if lower_age <= Insurance_dictionary_by_ID[id]['age'] < lower_age +10:\n",
    "                id_by_age_group_dict['age_range_{age}'.format(age=str(lower_age))] += [id]\n",
    "print('After filling it, as an example the people older than 60 and under 70 are:\\n',\n",
    "      id_by_age_group_dict['age_range_60'], '\\n')\n",
    "\n",
    "# Calculating percentage of each group among the total and their respective average insurance cost\n",
    "for age_range in id_by_age_group_dict.keys():\n",
    "    avg_cost_by_age = average(id_by_age_group_dict[age_range], 'charges')\n",
    "    print('Clients in the',str(age_range),'are '+\n",
    "          str(round(len(id_by_age_group_dict[age_range])/\n",
    "                    len(Insurance_dictionary_by_ID.values()) * 100,2))+'% of the total.')\n",
    "    print('On average their insurance costs are: '+str(avg_cost_by_age)+'$.\\n')"
   ]
  },
  {
   "cell_type": "code",
   "execution_count": 20,
   "metadata": {},
   "outputs": [
    {
     "name": "stdout",
     "output_type": "stream",
     "text": [
      "13270.4\n"
     ]
    }
   ],
   "source": [
    "global_cost_average = average(Insurance_dictionary_by_ID, 'charges')\n",
    "print(global_cost_average)"
   ]
  },
  {
   "cell_type": "markdown",
   "metadata": {},
   "source": [
    "## Summary\n",
    "The US insurance has overall 1338 clients: 676 men and 662 women, meaning that they are equally represented in the database.<br>\n",
    "However, on average it seems that men pay 11% more than women for their insurance cost.\n",
    "\n",
    "More than half 57% is a parent, mothers and fathers are in the same proportion: 51% vs 49% respectively. On average they have 2 kids.<br>\n",
    "There is not much difference in age: parents have on average nearly 40 years, while non parents are slightly younger and are 38.<br>\n",
    "Analyzing the fact of having children, it can be observed that clients who are parents pay on average 12.8% more that clients without them.\n",
    "\n",
    "Checking the smokers, the majority of the clients, nearly 80%, do not smoke. Looking at the average cost for smokers, their insurance charges are 280 % more expensive that those who do not smoke. This means that smoking appears to be a primary key factor in the final cost, but it is important to notice that the sample of smoking users is smaller and can lead misleading conclusions.\n",
    "\n",
    "Looking at the regions, the list contains an heterogeneous group of people that lives in all the four location of US. More specifically:<br>\n",
    "    - southwest: 24.3%<br>\n",
    "    - southeast: 27.2%<br>\n",
    "    - northwest: 24.3%<br>\n",
    "    - northeast: 24.2%<br>\n",
    "The average cost between the regions is more or less aligned with the greatest gap measured between southwest and southeast, that on average appears to be nearly 20% more expensive.<br>\n",
    "\n",
    "When it comes to age group, all clients were divided in 10 years ranges, such as 18-29, 30-39, 40-49,..., to identify which one is most represented and how does their respective average insurance cost vary.\n",
    "As a result:<br>\n",
    "\n",
    "    Clients in the age_range_20 are 31.17% of the total.\n",
    "        On average their insurance costs are: 9182.5$.\n",
    "        \n",
    "    Clients in the age_range_30 are 19.21% of the total.\n",
    "        On average their insurance costs are: 11738.8$.\n",
    "    \n",
    "    Clients in the age_range_40 are 20.85% of the total.\n",
    "        On average their insurance costs are: 14399.2$.\n",
    "        \n",
    "    Clients in the age_range_50 are 20.25% of the total.\n",
    "        On average their insurance costs are: 16495.2$.\n",
    "    \n",
    "    Clients in the age_range_60 are 8.52% of the total.\n",
    "    On average their insurance costs are: 21248.0$.\n",
    "\n",
    "Therefore, most of the clients are aged between 18 and 30 years old, but they also pay less charges, this can be partially explain with the fact that generally they also don't have children yet.\n",
    "Clients who pay more are those aged above 60 years old, but they are less than 9% of the total. Excluding them, the older clients between 50 and 60 are still those who pay more, but their charges are more aligned to the global average of 13270.4$\n"
   ]
  }
 ],
 "metadata": {
  "kernelspec": {
   "display_name": "Python 3 (ipykernel)",
   "language": "python",
   "name": "python3"
  },
  "language_info": {
   "codemirror_mode": {
    "name": "ipython",
    "version": 3
   },
   "file_extension": ".py",
   "mimetype": "text/x-python",
   "name": "python",
   "nbconvert_exporter": "python",
   "pygments_lexer": "ipython3",
   "version": "3.11.9"
  },
  "panel-cell-order": [
   "6467b63c",
   "d078fc3d",
   "31a13df9",
   "78c6b24a",
   "3d83cc7a",
   "7c158a8c",
   "27540287",
   "594f8102",
   "2a7e20b7",
   "2e021805",
   "ee78c628",
   "5b4793d5",
   "a6e28cf2",
   "8f2b969a",
   "dcd838bd",
   "034ae6e9"
  ]
 },
 "nbformat": 4,
 "nbformat_minor": 4
}
